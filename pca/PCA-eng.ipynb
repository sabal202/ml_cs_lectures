{
 "cells": [
  {
   "cell_type": "markdown",
   "metadata": {
    "slideshow": {
     "slide_type": "slide"
    }
   },
   "source": [
    "  # Principal component analysis (PCA)"
   ]
  },
  {
   "cell_type": "markdown",
   "metadata": {
    "slideshow": {
     "slide_type": "fragment"
    }
   },
   "source": [
    "Prepared: Sergey Sabalevskiy, group 18Б.07-пу"
   ]
  },
  {
   "cell_type": "code",
   "execution_count": 1,
   "metadata": {
    "slideshow": {
     "slide_type": "skip"
    }
   },
   "outputs": [],
   "source": [
    "import numpy as np\n",
    "import pandas as pd\n",
    "import matplotlib\n",
    "from matplotlib import pyplot as plt\n",
    "import matplotlib.patches as mpatches\n",
    "matplotlib.style.use('ggplot')"
   ]
  },
  {
   "cell_type": "markdown",
   "metadata": {
    "slideshow": {
     "slide_type": "slide"
    }
   },
   "source": [
    "## Theory"
   ]
  },
  {
   "cell_type": "markdown",
   "metadata": {
    "slideshow": {
     "slide_type": "fragment"
    }
   },
   "source": [
    "The principal component analysis is a widely used method of reducing dimensionality. The problem of the principal component method can be derived from a linear approach to dimension reduction."
   ]
  },
  {
   "cell_type": "markdown",
   "metadata": {
    "slideshow": {
     "slide_type": "fragment"
    }
   },
   "source": [
    "<img src=\"https://upload.wikimedia.org/wikipedia/commons/thumb/f/f5/GaussianScatterPCA.svg/1024px-GaussianScatterPCA.svg.png\" alt=\"drawing\" width=\"400\" height=\"400\"/>\n"
   ]
  },
  {
   "cell_type": "markdown",
   "metadata": {
    "slideshow": {
     "slide_type": "subslide"
    }
   },
   "source": [
    "### How does it look mathematically?"
   ]
  },
  {
   "cell_type": "markdown",
   "metadata": {
    "slideshow": {
     "slide_type": "subslide"
    }
   },
   "source": [
    "Any data set is some matrix $X$.\n",
    "\n",
    "The principal component method consistently finds the following linear combinations of features (components) from $X$:\n",
    "- each component is orthogonal to all others and normalized: $<w_i, w_j> = 0, \\quad ||w_i||=1$,\n",
    "- each component describes the maximum possible variance of the data (taking into account the previous constraint)."
   ]
  },
  {
   "cell_type": "markdown",
   "metadata": {
    "slideshow": {
     "slide_type": "subslide"
    }
   },
   "source": [
    "Assumptions within which this approach will work well:\n",
    "- **linearity of components**: we assume that the data can be analyzed using linear methods,\n",
    "- **large variances are important**: it is assumed that the directions in the data along which they have the greatest variance are the most important,\n",
    "- **all components are orthogonal**: this assumption makes it possible to analyze the principal components using linear algebra techniques (for example, the singular value decomposition of the matrix $X$ or the spectral decomposition of the matrix $X^TX$)."
   ]
  },
  {
   "cell_type": "markdown",
   "metadata": {
    "slideshow": {
     "slide_type": "subslide"
    }
   },
   "source": [
    "We denote the sample data covariance matrix as follows: $\\hat{C} \\sim Q = X^TX$.\n",
    "\n",
    "($Q$ differs from $\\hat{C}$ by normalization by the number of objects)."
   ]
  },
  {
   "cell_type": "markdown",
   "metadata": {
    "slideshow": {
     "slide_type": "fragment"
    }
   },
   "source": [
    "The singular value decomposition of the matrix $Q$ looks like this:\n",
    "\n",
    "$$Q = X^TX = W \\Lambda W^T$$"
   ]
  },
  {
   "cell_type": "markdown",
   "metadata": {
    "slideshow": {
     "slide_type": "fragment"
    }
   },
   "source": [
    "It can be strictly shown that the columns of the matrix $W$ are the principal components of the matrix $X$, i.e. combinations of features satisfying the two conditions specified at the beginning. In this case, the variance of the data along the direction specified by each component is equal to the corresponding value of the diagonal matrix $\\Lambda$."
   ]
  },
  {
   "cell_type": "markdown",
   "metadata": {
    "slideshow": {
     "slide_type": "subslide"
    }
   },
   "source": [
    "### How, on the basis of this transformation, to reduce the dimension?\n",
    "\n",
    "We can arrange the components using the variance values of the data along them.\n",
    "\n",
    "Let's do it: $\\lambda_{(1)} > \\lambda_{(2)} > \\dots > \\lambda_{(D)}$."
   ]
  },
  {
   "cell_type": "markdown",
   "metadata": {
    "slideshow": {
     "slide_type": "fragment"
    }
   },
   "source": [
    "Then, if we select the components corresponding to the first $d$ variances from this list, we will get a set of $d$ new features that best describe the variance of the original data set among all other possible linear combinations of the original features of the matrix $X$.\n",
    "- If $d=D$, then we don't lose any information at all.\n",
    "- If $d<D$, then we lose information, which, if the above assumptions are true, will be proportional to the sum of the variances of the discarded components."
   ]
  },
  {
   "cell_type": "markdown",
   "metadata": {
    "slideshow": {
     "slide_type": "subslide"
    }
   },
   "source": [
    "It turns out that the principal component method allows us to rank the received components by \"significance\", as well as to start the process of their selection."
   ]
  },
  {
   "cell_type": "markdown",
   "metadata": {
    "slideshow": {
     "slide_type": "slide"
    }
   },
   "source": [
    "## Example\n",
    "\n",
    "Consider a data set that is sampled from a multidimensional normal distribution with a covariance matrix $C = \\begin{pmatrix} 3 & 1 \\\\ 1 & 2 \\end{pmatrix}$."
   ]
  },
  {
   "cell_type": "code",
   "execution_count": 2,
   "metadata": {
    "slideshow": {
     "slide_type": "fragment"
    }
   },
   "outputs": [
    {
     "data": {
      "image/png": "[encoded data removed]",
      "text/plain": [
       "<Figure size 432x288 with 1 Axes>"
      ]
     },
     "metadata": {},
     "output_type": "display_data"
    }
   ],
   "source": [
    "from sklearn.decomposition import PCA\n",
    "\n",
    "mu = np.zeros(2)\n",
    "C = np.array([[3, 1], [1, 2]])\n",
    "\n",
    "data = np.random.multivariate_normal(mu, C, size=50)\n",
    "plt.scatter(data[:, 0], data[:, 1])\n",
    "plt.show()"
   ]
  },
  {
   "cell_type": "markdown",
   "metadata": {
    "slideshow": {
     "slide_type": "subslide"
    }
   },
   "source": [
    "By diagonalizing the true covariance matrix $C$, we can find a transformation of the original dataset whose components will best describe the variance, taking into account their orthogonality to each other:"
   ]
  },
  {
   "cell_type": "code",
   "execution_count": 3,
   "metadata": {
    "slideshow": {
     "slide_type": "fragment"
    }
   },
   "outputs": [
    {
     "data": {
      "image/png": "[encoded data removed]",
      "text/plain": [
       "<Figure size 432x288 with 1 Axes>"
      ]
     },
     "metadata": {},
     "output_type": "display_data"
    }
   ],
   "source": [
    "v, W_true = np.linalg.eig(C)\n",
    "\n",
    "plt.scatter(data[:, 0], data[:, 1])\n",
    "# construct the true components along which the data variance is maximal\n",
    "plt.plot(data[:, 0], (W_true[0, 0] / W_true[0, 1]) * data[:, 0], color=\"g\")\n",
    "plt.plot(data[:, 0], (W_true[1, 0] / W_true[1, 1]) * data[:, 0], color=\"g\")\n",
    "g_patch = mpatches.Patch(color=\"g\", label=\"True components\")\n",
    "plt.legend(handles=[g_patch])\n",
    "plt.axis(\"equal\")\n",
    "limits = [\n",
    "    np.minimum(np.amin(data[:, 0]), np.amin(data[:, 1])),\n",
    "    np.maximum(np.amax(data[:, 0]), np.amax(data[:, 1])),\n",
    "]\n",
    "plt.xlim(limits[0], limits[1])\n",
    "plt.ylim(limits[0], limits[1])\n",
    "plt.draw()\n"
   ]
  },
  {
   "cell_type": "markdown",
   "metadata": {
    "slideshow": {
     "slide_type": "subslide"
    }
   },
   "source": [
    "And now let's compare these directions with the directions that the principal component method chooses:"
   ]
  },
  {
   "cell_type": "code",
   "execution_count": 4,
   "metadata": {
    "slideshow": {
     "slide_type": "skip"
    }
   },
   "outputs": [],
   "source": [
    "def plot_principal_components(data, model, scatter=True, legend=True):\n",
    "    W_pca = model.components_\n",
    "    if scatter:\n",
    "        plt.scatter(data[:, 0], data[:, 1])\n",
    "    plt.plot(data[:, 0], -(W_pca[0, 0] / W_pca[0, 1]) * data[:, 0], color=\"c\")\n",
    "    plt.plot(data[:, 0], -(W_pca[1, 0] / W_pca[1, 1]) * data[:, 0], color=\"c\")\n",
    "    if legend:\n",
    "        c_patch = mpatches.Patch(color=\"c\", label=\"Principal components\")\n",
    "        plt.legend(handles=[c_patch], loc=\"lower right\")\n",
    "    # сделаем графики красивыми:\n",
    "    plt.axis(\"equal\")\n",
    "    limits = [\n",
    "        np.minimum(np.amin(data[:, 0]), np.amin(data[:, 1])) - 0.5,\n",
    "        np.maximum(np.amax(data[:, 0]), np.amax(data[:, 1])) + 0.5,\n",
    "    ]\n",
    "    plt.xlim(limits[0], limits[1])\n",
    "    plt.ylim(limits[0], limits[1])\n",
    "    plt.draw()\n"
   ]
  },
  {
   "cell_type": "code",
   "execution_count": 5,
   "metadata": {
    "slideshow": {
     "slide_type": "fragment"
    }
   },
   "outputs": [
    {
     "data": {
      "image/png": "[encoded data removed]",
      "text/plain": [
       "<Figure size 432x288 with 1 Axes>"
      ]
     },
     "metadata": {},
     "output_type": "display_data"
    }
   ],
   "source": [
    "model = PCA(n_components=2)\n",
    "model.fit(data)\n",
    "\n",
    "plt.scatter(data[:, 0], data[:, 1])\n",
    "# construct the true components along which the data variance is maximal\n",
    "plt.plot(data[:, 0], (W_true[0, 0] / W_true[0, 1]) * data[:, 0], color=\"g\")\n",
    "plt.plot(data[:, 0], (W_true[1, 0] / W_true[1, 1]) * data[:, 0], color=\"g\")\n",
    "# construct the components obtained using the PCA method:\n",
    "plot_principal_components(data, model, scatter=False, legend=False)\n",
    "c_patch = mpatches.Patch(color=\"c\", label=\"Principal components\")\n",
    "plt.legend(handles=[g_patch, c_patch])\n",
    "plt.draw()\n"
   ]
  },
  {
   "cell_type": "markdown",
   "metadata": {
    "slideshow": {
     "slide_type": "subslide"
    }
   },
   "source": [
    "It can be seen that even with a small amount of data, they differ slightly.\n",
    "\n",
    "Let's increase the sample size:"
   ]
  },
  {
   "cell_type": "code",
   "execution_count": 6,
   "metadata": {
    "slideshow": {
     "slide_type": "fragment"
    }
   },
   "outputs": [
    {
     "data": {
      "image/png": "[encoded data removed]",
      "text/plain": [
       "<Figure size 432x288 with 1 Axes>"
      ]
     },
     "metadata": {},
     "output_type": "display_data"
    }
   ],
   "source": [
    "data_large = np.random.multivariate_normal(mu, C, size=5000)\n",
    "\n",
    "model = PCA(n_components=2)\n",
    "model.fit(data_large)\n",
    "plt.scatter(data_large[:, 0], data_large[:, 1], alpha=0.1)\n",
    "# construct the true components along which the data variance is maximal\n",
    "plt.plot(data_large[:, 0], (W_true[0, 0] / W_true[0, 1]) * data_large[:, 0], color=\"g\")\n",
    "plt.plot(data_large[:, 0], (W_true[1, 0] / W_true[1, 1]) * data_large[:, 0], color=\"g\")\n",
    "# construct the components obtained using the PCA method:\n",
    "plot_principal_components(data_large, model, scatter=False, legend=False)\n",
    "c_patch = mpatches.Patch(color=\"c\", label=\"Principal components\")\n",
    "plt.legend(handles=[g_patch, c_patch])\n",
    "plt.draw()\n"
   ]
  },
  {
   "cell_type": "markdown",
   "metadata": {
    "slideshow": {
     "slide_type": "fragment"
    }
   },
   "source": [
    "In this case, the main components significantly more accurately approximate the true directions of the data along which the greatest variance is observed."
   ]
  },
  {
   "cell_type": "markdown",
   "metadata": {
    "slideshow": {
     "slide_type": "slide"
    }
   },
   "source": [
    "## Statistical view of the model"
   ]
  },
  {
   "cell_type": "markdown",
   "metadata": {
    "slideshow": {
     "slide_type": "fragment"
    }
   },
   "source": [
    "The task behind any dimensionality reduction method is to obtain from a set of noisy features $X$ the true values of $Y$, which actually determine the data set (i.e., reducing a dataset with a large number of features to data having the so-called \"effective dimension\")."
   ]
  },
  {
   "cell_type": "markdown",
   "metadata": {
    "slideshow": {
     "slide_type": "fragment"
    }
   },
   "source": [
    "In the case of the principal component method, we want to find the directions along which the variance is maximal, taking into account the assumptions described above about the structure of the data and components."
   ]
  },
  {
   "cell_type": "markdown",
   "metadata": {
    "slideshow": {
     "slide_type": "fragment"
    }
   },
   "source": [
    "Let's try to get a metric, which should determine how well the data is described by the constructed model for a given number of components. The selection of features in this case boils down to the fact that we choose the number of components at which the metric used (the logarithm of likelihood) is the maximum."
   ]
  },
  {
   "cell_type": "markdown",
   "metadata": {
    "slideshow": {
     "slide_type": "subslide"
    }
   },
   "source": [
    "Taking into account the assumptions , the task of the principal component method looks like this:\n",
    "\n",
    "$$ x = Wy + \\mu + \\epsilon$$\n",
    "\n",
    "where:\n",
    "- $x$ -- observed data\n",
    "- $W$ -- PC matrix (each column is one component)\n",
    "- $y$ -- their projection on the principal components\n",
    "- $\\mu$ -- average of observed data\n",
    "- $\\epsilon \\sim \\mathcal{N}(0, \\sigma^2I)$ -- normal noise"
   ]
  },
  {
   "cell_type": "markdown",
   "metadata": {
    "slideshow": {
     "slide_type": "subslide"
    }
   },
   "source": [
    "Based on the noise distribution, we write out the distribution by $x$:\n",
    "\n",
    "$$p(x \\mid y) = \\mathcal{N}(Wx + \\mu, \\sigma^2I) $$\n",
    "\n",
    "Introduce an a priori distribution on $y$:\n",
    "\n",
    "$$p(y) = \\mathcal{N}(0, 1)$$\n",
    "\n",
    "We deduce from this using the Bayes formula the marginal distribution on $p(x)$:\n",
    "\n",
    "$$p(x) = \\mathcal{N}(\\mu, \\sigma^2I + WW^T)$$"
   ]
  },
  {
   "cell_type": "markdown",
   "metadata": {
    "slideshow": {
     "slide_type": "subslide"
    }
   },
   "source": [
    "Then the likelihood of the data set under the condition of the model used looks like this ([link](https://scikit-learn.org/stable/modules/generated/sklearn.decomposition.PCA.html#sklearn.decomposition.PCA.score_samples)):\n",
    "\n",
    "$$\\mathcal{L} = \\sum_{i=1}^N \\log p(x_i) = -\\frac{N}{2} \\Big( d\\log(2\\pi) + \\log |C| + \\text{tr}(C^{-1}S) \\Big)$$\n",
    "\n",
    "where:\n",
    "- $C = \\sigma^2I + WW^T$ -- covariance matrix in the marginal model\n",
    "- $S = \\frac{1}{N} \\sum_{i=1}^N (x_i - \\mu)(x_i - \\mu)^T$ -- sample covariance\n",
    "\n",
    "The value of $\\mathcal{L}$ makes sense of the logarithm of the probability of obtaining a data set $X$, provided that it satisfies the assumptions of the principal component method model. The larger it is, the better the model describes the observed data."
   ]
  },
  {
   "cell_type": "markdown",
   "metadata": {
    "slideshow": {
     "slide_type": "slide"
    }
   },
   "source": [
    "## Automatic dimension reduction using the logarithm of likelihood $\\mathcal{L}$"
   ]
  },
  {
   "cell_type": "markdown",
   "metadata": {
    "slideshow": {
     "slide_type": "subslide"
    }
   },
   "source": [
    "Consider a data set of dimension $D$, whose real dimension is much smaller than the observed one (let's call it $d$).\n",
    "\n",
    "1. For each value of $\\hat{d}$ in the interval [1,D], we construct a PCA model with $\\hat{d}$ main components.\n",
    "2. Let's estimate the average logarithm of the likelihood of data for each model on the general dataset using the 3-fold cross-validation method (the final estimate of the logarithm of likelihood is averaged over all folds).\n",
    "3. Find the model for which it is maximal, that is, the number of components in this model, i.e. the value of $\\hat{d}_{opt}$."
   ]
  },
  {
   "cell_type": "markdown",
   "metadata": {
    "slideshow": {
     "slide_type": "subslide"
    }
   },
   "source": [
    "Further, **the data has the following properties**: $Y$ with effective dimension $d$ obtained from independent uniform distributions are linearly transformed by a random matrix $W$ into a space of dimension $D$, after which independent normal noise with variance $\\sigma$ was added to all the features."
   ]
  },
  {
   "cell_type": "code",
   "execution_count": 7,
   "metadata": {
    "scrolled": true,
    "slideshow": {
     "slide_type": "skip"
    }
   },
   "outputs": [],
   "source": [
    "from sklearn.decomposition import PCA\n",
    "from sklearn.model_selection import cross_val_score\n",
    "\n",
    "\n",
    "def plot_scores(d_scores):\n",
    "    n_components = np.arange(1, d_scores.size + 1)\n",
    "    plt.plot(n_components, d_scores, \"b\", label=\"PCA scores\")\n",
    "    plt.xlim(n_components[0], n_components[-1])\n",
    "    plt.xlabel(\"n components\")\n",
    "    plt.ylabel(\"cv scores\")\n",
    "    plt.legend(loc=\"lower right\")\n",
    "    plt.show()"
   ]
  },
  {
   "cell_type": "code",
   "execution_count": 8,
   "metadata": {
    "slideshow": {
     "slide_type": "subslide"
    }
   },
   "outputs": [],
   "source": [
    "data = pd.read_csv(\"data_1.csv\")\n",
    "D = len(data.columns)"
   ]
  },
  {
   "cell_type": "code",
   "execution_count": 9,
   "metadata": {
    "slideshow": {
     "slide_type": "fragment"
    }
   },
   "outputs": [],
   "source": [
    "d_scores = []\n",
    "for n in range(1, D + 1):\n",
    "    model = PCA(n_components=n)\n",
    "    scores = cross_val_score(model, data)\n",
    "    d_scores.append(np.mean(scores))\n",
    "d_scores = np.array(d_scores)"
   ]
  },
  {
   "cell_type": "code",
   "execution_count": 10,
   "metadata": {
    "slideshow": {
     "slide_type": "fragment"
    }
   },
   "outputs": [
    {
     "data": {
      "image/png": "[encoded data removed]",
      "text/plain": [
       "<Figure size 432x288 with 1 Axes>"
      ]
     },
     "metadata": {},
     "output_type": "display_data"
    },
    {
     "name": "stdout",
     "output_type": "stream",
     "text": [
      "Optimal dimendtionality: 20\n"
     ]
    }
   ],
   "source": [
    "plot_scores(d_scores)\n",
    "print(f\"Optimal dimendtionality: {np.argmax(d_scores) + 1}\")"
   ]
  },
  {
   "cell_type": "markdown",
   "metadata": {
    "slideshow": {
     "slide_type": "slide"
    }
   },
   "source": [
    "## Variation view of the model"
   ]
  },
  {
   "cell_type": "markdown",
   "metadata": {
    "slideshow": {
     "slide_type": "fragment"
    }
   },
   "source": [
    "We know that each main component corresponds to the data variance described by it (the data variance when projected onto this component). It is numerically equal to the value of the diagonal elements of the matrix $\\Lambda$ obtained from the spectral decomposition of the data covariance matrix."
   ]
  },
  {
   "cell_type": "markdown",
   "metadata": {
    "slideshow": {
     "slide_type": "fragment"
    }
   },
   "source": [
    "Based on this, we can sort the variance of the data along these components in descending order, and reduce the dimension of the data by discarding the $q$ of the final principal components having the smallest variance."
   ]
  },
  {
   "cell_type": "markdown",
   "metadata": {
    "slideshow": {
     "slide_type": "fragment"
    }
   },
   "source": [
    "You can do this in two different ways. For example, if you train a classification or regression model on data with a reduced dimension, then you can start an iterative process: remove components with the smallest variance one by one until the quality of the final model becomes significantly worse."
   ]
  },
  {
   "cell_type": "markdown",
   "metadata": {
    "slideshow": {
     "slide_type": "subslide"
    }
   },
   "source": [
    "A more general way of selecting features is that you can look at the differences in variances in the sorted series $\\lambda_{(1)} > \\lambda_{(2)} > \\dots>\\lambda_{(D)}$: $\\lambda_{(1)}-\\lambda_{(2)}, \\dots, \\lambda_{(D-1)} - \\lambda_{(D)}$, and remove those components on which the difference will be greatest.\n",
    "\n",
    "Let's try to do it."
   ]
  },
  {
   "cell_type": "markdown",
   "metadata": {
    "slideshow": {
     "slide_type": "slide"
    }
   },
   "source": [
    "## Manual reduction of feature dimensionality by analyzing the variance of data along the principal components"
   ]
  },
  {
   "cell_type": "markdown",
   "metadata": {
    "slideshow": {
     "slide_type": "subslide"
    }
   },
   "source": [
    "Let's consider another data set of dimension $D$, whose real dimension is much smaller than the observed one (let's also call it $d$).\n",
    "\n",
    "1. Let's build a PCA model with $D$ main components based on these data.\n",
    "2. Project the data onto the main components.\n",
    "3. Let's estimate their dispersion along the principal components.\n",
    "4. Sort the variances in descending order and get their pairwise differences: $\\lambda_{(i-1)} - \\lambda_{(i)}$.\n",
    "5. Find the difference with the largest value and get an estimate for the effective dimension of the data $\\hat{d}$.\n",
    "6. Plot the variance graph and make sure that the resulting estimate for $\\hat{d}_{opt}$ really makes sense."
   ]
  },
  {
   "cell_type": "code",
   "execution_count": 60,
   "metadata": {
    "slideshow": {
     "slide_type": "skip"
    }
   },
   "outputs": [],
   "source": [
    "from sklearn.decomposition import PCA\n",
    "from sklearn.model_selection import cross_val_score as cv_score\n",
    "\n",
    "\n",
    "def plot_variances(d_variances):\n",
    "    n_components = np.arange(1, d_variances.size + 1)\n",
    "    plt.plot(n_components, d_variances, \"b\", label=\"Component variances\")\n",
    "    plt.xlim(n_components[0], n_components[-1])\n",
    "    plt.xlabel(\"n components\")\n",
    "    plt.ylabel(\"variance\")\n",
    "    plt.legend(loc=\"upper right\")\n",
    "    plt.show()"
   ]
  },
  {
   "cell_type": "code",
   "execution_count": 61,
   "metadata": {
    "slideshow": {
     "slide_type": "subslide"
    }
   },
   "outputs": [],
   "source": [
    "data = pd.read_csv(\"data_1.csv\")\n",
    "D = len(data.columns)"
   ]
  },
  {
   "cell_type": "code",
   "execution_count": 62,
   "metadata": {
    "slideshow": {
     "slide_type": "fragment"
    }
   },
   "outputs": [],
   "source": [
    "model = PCA(n_components=D)\n",
    "data_pca = model.fit_transform(data)"
   ]
  },
  {
   "cell_type": "code",
   "execution_count": 63,
   "metadata": {
    "slideshow": {
     "slide_type": "fragment"
    }
   },
   "outputs": [
    {
     "data": {
      "image/png": "[encoded data removed]",
      "text/plain": [
       "<Figure size 432x288 with 1 Axes>"
      ]
     },
     "metadata": {},
     "output_type": "display_data"
    }
   ],
   "source": [
    "d_variances = model.explained_variance_ratio_\n",
    "plot_variances(d_variances)"
   ]
  },
  {
   "cell_type": "code",
   "execution_count": 67,
   "metadata": {
    "slideshow": {
     "slide_type": "subslide"
    }
   },
   "outputs": [
    {
     "data": {
      "image/png": "[encoded data removed]",
      "text/plain": [
       "<Figure size 432x288 with 1 Axes>"
      ]
     },
     "metadata": {},
     "output_type": "display_data"
    },
    {
     "name": "stdout",
     "output_type": "stream",
     "text": [
      "Оптимальная размерность: 20\n"
     ]
    }
   ],
   "source": [
    "var_diff = pd.Series(d_variances).sort_values(ascending=False).diff(-1)\n",
    "plot_variances(var_diff)\n",
    "print(f\"Optimal dimendtionality: {np.argmax(var_diff) + 1}\")"
   ]
  },
  {
   "cell_type": "markdown",
   "metadata": {
    "slideshow": {
     "slide_type": "slide"
    }
   },
   "source": [
    "## Interpretation of the PCA"
   ]
  },
  {
   "cell_type": "markdown",
   "metadata": {
    "slideshow": {
     "slide_type": "fragment"
    }
   },
   "source": [
    "As the principal components, we get linear combinations of the initial features, so the question of their interpretation arises reasonably.\n",
    "\n",
    "There are several approaches to this, consider two:\n",
    "- calculate the relationship of the principal components with the initial features\n",
    "- calculate the contributions of each particular observation to the principal components"
   ]
  },
  {
   "cell_type": "markdown",
   "metadata": {
    "slideshow": {
     "slide_type": "fragment"
    }
   },
   "source": [
    "The first method is suitable in the case when all the objects from the data set do not carry any semantic information for us, which is no longer imprinted in the set of features."
   ]
  },
  {
   "cell_type": "markdown",
   "metadata": {
    "slideshow": {
     "slide_type": "fragment"
    }
   },
   "source": [
    "The second method is suitable for the case when the data has a more complex structure. For example, faces for a person carry a greater semantic meaning than the vector of pixel values that PCA analyzes."
   ]
  },
  {
   "cell_type": "markdown",
   "metadata": {
    "slideshow": {
     "slide_type": "slide"
    }
   },
   "source": [
    "## Analysis of the main disadvantages of the principal component method"
   ]
  },
  {
   "cell_type": "markdown",
   "metadata": {
    "slideshow": {
     "slide_type": "fragment"
    }
   },
   "source": [
    "The problems discussed above are model problems because the data for them were generated in accordance with the assumptions of the principal component method. In practice, these assumptions, of course, are not always fulfilled."
   ]
  },
  {
   "cell_type": "markdown",
   "metadata": {
    "slideshow": {
     "slide_type": "fragment"
    }
   },
   "source": [
    "Let's look at the typical errors of PCA that should be kept in mind before applying it."
   ]
  },
  {
   "cell_type": "markdown",
   "metadata": {
    "slideshow": {
     "slide_type": "slide"
    }
   },
   "source": [
    "### The directions with the maximum variance in the data are non-orthogonal\n",
    "\n",
    "Consider the case of a sample that is generated from two elongated normal distributions:"
   ]
  },
  {
   "cell_type": "code",
   "execution_count": 28,
   "metadata": {
    "slideshow": {
     "slide_type": "fragment"
    }
   },
   "outputs": [
    {
     "name": "stdout",
     "output_type": "stream",
     "text": [
      "[[10.   0. ]\n",
      " [ 0.   0.5]]\n",
      "[[ 5.          8.66025404]\n",
      " [-0.4330127   0.25      ]]\n"
     ]
    }
   ],
   "source": [
    "C1 = np.array([[10, 0], [0, 0.5]])\n",
    "phi = np.pi / 3\n",
    "C2 = C1 @ np.array([[np.cos(phi), np.sin(phi)], [-np.sin(phi), np.cos(phi)]])\n",
    "print(C1)\n",
    "print(C2)"
   ]
  },
  {
   "cell_type": "code",
   "execution_count": 29,
   "metadata": {
    "slideshow": {
     "slide_type": "skip"
    }
   },
   "outputs": [
    {
     "name": "stderr",
     "output_type": "stream",
     "text": [
      "<ipython-input-29-0eaf27160c8e>:4: RuntimeWarning: covariance is not positive-semidefinite.\n",
      "  np.random.multivariate_normal(mu, C2, size=50),\n"
     ]
    },
    {
     "data": {
      "text/plain": [
       "PCA(n_components=2)"
      ]
     },
     "execution_count": 29,
     "metadata": {},
     "output_type": "execute_result"
    }
   ],
   "source": [
    "data = np.vstack(\n",
    "    [\n",
    "        np.random.multivariate_normal(mu, C1, size=50),\n",
    "        np.random.multivariate_normal(mu, C2, size=50),\n",
    "    ]\n",
    ")\n",
    "\n",
    "# train the pca model\n",
    "model = PCA(n_components=2)\n",
    "model.fit(data)"
   ]
  },
  {
   "cell_type": "code",
   "execution_count": 30,
   "metadata": {
    "slideshow": {
     "slide_type": "subslide"
    }
   },
   "outputs": [
    {
     "data": {
      "image/png": "[encoded data removed]",
      "text/plain": [
       "<Figure size 432x288 with 1 Axes>"
      ]
     },
     "metadata": {},
     "output_type": "display_data"
    }
   ],
   "source": [
    "plt.scatter(data[:, 0], data[:, 1])\n",
    "# build the true components we are interested in\n",
    "plt.plot(data[:, 0], np.zeros(data[:, 0].size), color=\"g\")\n",
    "plt.plot(data[:, 0], 3 ** 0.5 * data[:, 0], color=\"g\")\n",
    "\n",
    "plot_principal_components(data, model, scatter=False, legend=False)\n",
    "c_patch = mpatches.Patch(color=\"c\", label=\"Principal components\")\n",
    "plt.legend(handles=[g_patch, c_patch])\n",
    "plt.draw()"
   ]
  },
  {
   "cell_type": "markdown",
   "metadata": {
    "slideshow": {
     "slide_type": "subslide"
    }
   },
   "source": [
    "In this case, PCA does not work well, since the components we are interested in in the data are correlated with each other (or non-orthogonal). More complex methods are required to search for such transformations.\n",
    "\n",
    "Perhaps **Factor analysis methods** will work better here."
   ]
  },
  {
   "cell_type": "markdown",
   "metadata": {
    "slideshow": {
     "slide_type": "slide"
    }
   },
   "source": [
    "### The interesting direction in the data does not coincide with the direction of maximum variance"
   ]
  },
  {
   "cell_type": "code",
   "execution_count": 31,
   "metadata": {
    "slideshow": {
     "slide_type": "fragment"
    }
   },
   "outputs": [
    {
     "data": {
      "text/plain": [
       "PCA(n_components=2)"
      ]
     },
     "execution_count": 31,
     "metadata": {},
     "output_type": "execute_result"
    }
   ],
   "source": [
    "C = np.array([[0.5, 0], [0, 10]])\n",
    "mu1 = np.array([-2, 0])\n",
    "mu2 = np.array([2, 0])\n",
    "\n",
    "data = np.vstack(\n",
    "    [\n",
    "        np.random.multivariate_normal(mu1, C, size=50),\n",
    "        np.random.multivariate_normal(mu2, C, size=50),\n",
    "    ]\n",
    ")\n",
    "\n",
    "# train the pca model and build the main components\n",
    "model = PCA(n_components=2)\n",
    "model.fit(data)"
   ]
  },
  {
   "cell_type": "code",
   "execution_count": 32,
   "metadata": {
    "slideshow": {
     "slide_type": "subslide"
    }
   },
   "outputs": [
    {
     "data": {
      "image/png": "[encoded data removed]",
      "text/plain": [
       "<Figure size 432x288 with 1 Axes>"
      ]
     },
     "metadata": {},
     "output_type": "display_data"
    }
   ],
   "source": [
    "plt.scatter(data[:, 0], data[:, 1])\n",
    "plot_principal_components(data, model)\n",
    "plt.draw()"
   ]
  },
  {
   "cell_type": "markdown",
   "metadata": {
    "slideshow": {
     "slide_type": "fragment"
    }
   },
   "source": [
    "Obviously, in this case, the principal component method will consider the vertical component more significant for describing the dataset than the horizontal one."
   ]
  },
  {
   "cell_type": "markdown",
   "metadata": {
    "slideshow": {
     "slide_type": "subslide"
    }
   },
   "source": [
    "But, for example, in the case when the data from the left and right cluster belong to different classes, for their linear separability, the vertical component is noise. Despite this, her principal component method never recognizes noise, and it is likely that the selection of features with its help will throw out components that are significant for the task you are solving from your data simply because the values along them have low variance."
   ]
  },
  {
   "cell_type": "markdown",
   "metadata": {
    "slideshow": {
     "slide_type": "subslide"
    }
   },
   "source": [
    "Some other methods of reducing the dimension of data can cope with such situations, for example, the Independent Component Analysis (ICA) method."
   ]
  },
  {
   "cell_type": "markdown",
   "metadata": {
    "slideshow": {
     "slide_type": "slide"
    }
   },
   "source": [
    "![image](https://upload.wikimedia.org/wikipedia/commons/b/bb/SOMsPCA.PNG)\n",
    "\n",
    "One-dimensional SOM versus principal component analysis (PCA) for data approximation. SOM is a red broken line with squares, 20 nodes. The first principal component is presented by a blue line. Data points are the small grey circles. For PCA, the fraction of variance unexplained in this example is 23.23%, for SOM it is 6.86%."
   ]
  },
  {
   "cell_type": "markdown",
   "metadata": {
    "slideshow": {
     "slide_type": "slide"
    }
   },
   "source": [
    "## PCA Limitations\n",
    "\n",
    "**Model performance**: PCA can lead to a reduction in model performance on datasets with no or low feature correlation or does not meet the assumptions of linearity."
   ]
  },
  {
   "cell_type": "markdown",
   "metadata": {
    "slideshow": {
     "slide_type": "fragment"
    }
   },
   "source": [
    "**Classification accuracy**: Variance based PCA framework does not consider the differentiating characteristics of the classes. Also, the information that distinguishes one class from another might be in the low variance components and may be discarded."
   ]
  },
  {
   "cell_type": "markdown",
   "metadata": {
    "slideshow": {
     "slide_type": "fragment"
    }
   },
   "source": [
    "**Outliers**: PCA is also affected by outliers, and normalization of the data needs to be an essential component of any workflow."
   ]
  },
  {
   "cell_type": "markdown",
   "metadata": {
    "slideshow": {
     "slide_type": "fragment"
    }
   },
   "source": [
    "**Interpretability**: Each principal component is a combination of original features and does not allow for the individual feature importance to be recognized."
   ]
  },
  {
   "cell_type": "markdown",
   "metadata": {
    "slideshow": {
     "slide_type": "slide"
    }
   },
   "source": [
    "## Conclusion and Extensions\n",
    "\n",
    "PCA is a handy addition to the data scientist toolkit and will improve model performance in most scenarios. \n",
    "\n",
    "There are some extensions to mitigate specific limitations of PCA in the Scikit-Learn library. These include RandomizedPCA, which is suitable for quickly approximate the first few principal components in very high-dimensional data, and SparsePCA which introduces a regularization tuning parameter for increased sparsity.\n"
   ]
  },
  {
   "cell_type": "markdown",
   "metadata": {
    "slideshow": {
     "slide_type": "slide"
    }
   },
   "source": [
    " ## Links\n",
    "\n",
    " 1. [Clustergram Paper](https://journals.sagepub.com/doi/10.1177/1536867X0200200405)\n",
    " 1. [Clustergram docs for Python](https://pypi.org/project/clustergram/)\n",
    " 1. [EigenGame: PCA as a Nash Equilibrium](https://paperswithcode.com/paper/eigengame-pca-as-a-nash-equilibrium)\n",
    " 1. [EigenGAN: Layer-Wise Eigen-Learning for GANs](https://paperswithcode.com/paper/eigengan-layer-wise-eigen-learning-for-gans)\n",
    " 1. [t-SNE](https://habr.com/ru/post/267041/)\n",
    " 1. [SOM](https://medium.com/machine-learning-researcher/self-organizing-map-som-c296561e2117)\n",
    " 1. [Difference between PCA VS t-SNE](https://www.geeksforgeeks.org/difference-between-pca-vs-t-sne/)\n",
    " 1. [PCA vs LDA vs T-SNE — Let’s Understand the difference](https://medium.com/analytics-vidhya/pca-vs-lda-vs-t-sne-lets-understand-the-difference-between-them-22fa6b9be9d0)\n",
    " 1. [PCA vs T-SNE on standart datasets](https://www.thekerneltrip.com/statistics/tsne-vs-pca)\n",
    " 1. [scikit-learn. Decomposing signals in components (matrix factorization problems)](https://scikit-learn.org/stable/modules/decomposition.html#principal-component-analysis-pca)"
   ]
  }
 ],
 "metadata": {
  "celltoolbar": "Slideshow",
  "kernelspec": {
   "display_name": "Python 3.9.13 ('classification2021')",
   "language": "python",
   "name": "python3"
  },
  "language_info": {
   "codemirror_mode": {
    "name": "ipython",
    "version": 3
   },
   "file_extension": ".py",
   "mimetype": "text/x-python",
   "name": "python",
   "nbconvert_exporter": "python",
   "pygments_lexer": "ipython3",
   "version": "3.9.13"
  },
  "vscode": {
   "interpreter": {
    "hash": "dee0d78eccb2eed5e33b660f93d9df94aa8843537ef654ab713c7aec7027763e"
   }
  }
 },
 "nbformat": 4,
 "nbformat_minor": 1
}
